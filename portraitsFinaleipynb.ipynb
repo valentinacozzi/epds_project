{
  "nbformat": 4,
  "nbformat_minor": 0,
  "metadata": {
    "colab": {
      "name": "portraitsFinaleipynb",
      "provenance": [],
      "authorship_tag": "ABX9TyPa8rNrfam/QsjsBk1u0P9G",
      "include_colab_link": true
    },
    "kernelspec": {
      "name": "python3",
      "display_name": "Python 3"
    },
    "language_info": {
      "name": "python"
    }
  },
  "cells": [
    {
      "cell_type": "markdown",
      "metadata": {
        "id": "view-in-github",
        "colab_type": "text"
      },
      "source": [
        "<a href=\"https://colab.research.google.com/github/valentinacozzi/epds_project/blob/main/portraitsFinaleipynb.ipynb\" target=\"_parent\"><img src=\"https://colab.research.google.com/assets/colab-badge.svg\" alt=\"Open In Colab\"/></a>"
      ]
    },
    {
      "cell_type": "code",
      "execution_count": null,
      "metadata": {
        "id": "-zVQEEX-K6_7"
      },
      "outputs": [],
      "source": [
        "import ssl\n",
        "import json\n",
        "import pprint\n",
        "import pandas as pd\n",
        "from pprint import pprint"
      ]
    },
    {
      "cell_type": "code",
      "source": [
        "from google.colab import drive\n",
        "drive.mount('/content/drive')"
      ],
      "metadata": {
        "colab": {
          "base_uri": "https://localhost:8080/"
        },
        "id": "7-E746X7K_nO",
        "outputId": "f309207f-3a97-4979-e712-fd7a98095d00"
      },
      "execution_count": null,
      "outputs": [
        {
          "output_type": "stream",
          "name": "stdout",
          "text": [
            "Drive already mounted at /content/drive; to attempt to forcibly remount, call drive.mount(\"/content/drive\", force_remount=True).\n"
          ]
        }
      ]
    },
    {
      "cell_type": "code",
      "source": [
        "with open (\"/content/drive/MyDrive/queryAggiornata.json\", \"r\") as results: \n",
        "    data= json.load(results)\n",
        "    #pprint(data)"
      ],
      "metadata": {
        "id": "2yPmwpZiLJGY"
      },
      "execution_count": null,
      "outputs": []
    },
    {
      "cell_type": "code",
      "source": [
        "for column in data[\"head\"][\"vars\"]:\n",
        "    print(column)"
      ],
      "metadata": {
        "colab": {
          "base_uri": "https://localhost:8080/"
        },
        "id": "S0sIxtxzLOXu",
        "outputId": "b525d764-2481-4d0d-a9c6-7136a8d6fa8f"
      },
      "execution_count": null,
      "outputs": [
        {
          "output_type": "stream",
          "name": "stdout",
          "text": [
            "painting\n",
            "autore\n",
            "Alabel\n",
            "anno\n",
            "country\n",
            "countryLabel\n",
            "movimento\n",
            "movimentoLabel\n",
            "titolo\n",
            "immagine\n"
          ]
        }
      ]
    },
    {
      "cell_type": "code",
      "source": [
        "dataset = pd.json_normalize(data['results']['bindings'])\n"
      ],
      "metadata": {
        "id": "CfB894pKLYiV"
      },
      "execution_count": null,
      "outputs": []
    },
    {
      "cell_type": "code",
      "source": [
        "dataset.drop(axis='columns', columns=['painting.type', 'movimentoLabel.xml:lang', 'autore.type', 'anno.type', \n",
        "                                    'country.value', 'titolo.xml:lang', 'titolo.type', 'movimento.type', \n",
        "                                    'movimentoLabel.type', 'anno.datatype', 'country.type', \n",
        "                                    'Alabel.xml:lang', 'Alabel.type', 'countryLabel.xml:lang', \n",
        "                                    'immagine.type', 'countryLabel.type'], inplace = True)\n"
      ],
      "metadata": {
        "id": "p14e_tH3lHSZ"
      },
      "execution_count": null,
      "outputs": []
    },
    {
      "cell_type": "code",
      "source": [
        "dataset.drop_duplicates(subset=['painting.value'], keep= 'first', inplace=True)\n",
        "len(dataset)"
      ],
      "metadata": {
        "colab": {
          "base_uri": "https://localhost:8080/"
        },
        "id": "uOdBoBndkWMg",
        "outputId": "c04285fb-6d67-4aea-f1b9-07db41fb380a"
      },
      "execution_count": null,
      "outputs": [
        {
          "output_type": "execute_result",
          "data": {
            "text/plain": [
              "487"
            ]
          },
          "metadata": {},
          "execution_count": 102
        }
      ]
    },
    {
      "cell_type": "code",
      "source": [
        "dataset.rename(columns={\n",
        "    'painting.value':'painting_uri',\n",
        "    'titolo.value': 'title',\n",
        "    'movimento.value' : 'movement_uri', \n",
        "    'movimentoLabel.value': 'artistic_movement', \n",
        "    'autore.value': 'author_uri', \n",
        "    'anno.value' : 'inception_year', \n",
        "    'Alabel.value' : 'author_label', \n",
        "    'countryLabel.value': 'author_citizenship', \n",
        "    'immagine.value' : 'image_uri', \n",
        "}, inplace = True)"
      ],
      "metadata": {
        "id": "MYtOlzYhlZ9M"
      },
      "execution_count": null,
      "outputs": []
    },
    {
      "cell_type": "code",
      "source": [
        "dataset"
      ],
      "metadata": {
        "id": "4WixYcmgUqPd"
      },
      "execution_count": null,
      "outputs": []
    },
    {
      "cell_type": "code",
      "source": [
        "dataset.groupby('artistic_movement')['artistic_movement'].count()"
      ],
      "metadata": {
        "colab": {
          "base_uri": "https://localhost:8080/"
        },
        "id": "fVrsIfkPMD3u",
        "outputId": "154793fa-9d56-45a1-b715-25a7cd357dc0"
      },
      "execution_count": null,
      "outputs": [
        {
          "output_type": "execute_result",
          "data": {
            "text/plain": [
              "artistic_movement\n",
              "Art Nouveau           291\n",
              "Barbizon school         2\n",
              "Cloisonnism             1\n",
              "Cubism                 23\n",
              "Dada                    1\n",
              "Impressionism          57\n",
              "Japonisme               1\n",
              "New Objectivity         2\n",
              "Pleinairisme            1\n",
              "Realism                31\n",
              "Symbolism               4\n",
              "analytical cubism       1\n",
              "bohemianism             1\n",
              "constructivism          1\n",
              "degenerate art          1\n",
              "expressionism          15\n",
              "modernism               3\n",
              "naïve art               1\n",
              "post-impressionism     25\n",
              "primitivism             2\n",
              "surrealism             14\n",
              "symbolism               9\n",
              "Name: artistic_movement, dtype: int64"
            ]
          },
          "metadata": {},
          "execution_count": 104
        }
      ]
    },
    {
      "cell_type": "code",
      "source": [
        "dataset.groupby('author_citizenship')['author_citizenship'].count()"
      ],
      "metadata": {
        "colab": {
          "base_uri": "https://localhost:8080/"
        },
        "id": "wErDg0sHNWLN",
        "outputId": "1a535085-d6da-4512-9c60-089a1f73e8a6"
      },
      "execution_count": null,
      "outputs": [
        {
          "output_type": "execute_result",
          "data": {
            "text/plain": [
              "author_citizenship\n",
              "Austria                         1\n",
              "Austrian Empire                 1\n",
              "Belgium                         2\n",
              "Brazil                          1\n",
              "Cisleithania                    2\n",
              "France                         77\n",
              "German Reich                    4\n",
              "Germany                         3\n",
              "Israel                          1\n",
              "Kingdom of Italy                3\n",
              "Kingdom of Prussia              1\n",
              "Kingdom of the Netherlands     28\n",
              "Mexico                          7\n",
              "Norway                          4\n",
              "Philippines                     1\n",
              "Poland                          3\n",
              "Romania                         9\n",
              "Second Polish Republic          1\n",
              "Soviet Union                    1\n",
              "Spain                         197\n",
              "Switzerland                     4\n",
              "United Kingdom                  4\n",
              "United States                   1\n",
              "United States of America       13\n",
              "Name: author_citizenship, dtype: int64"
            ]
          },
          "metadata": {},
          "execution_count": 105
        }
      ]
    },
    {
      "cell_type": "code",
      "source": [
        "#artistic movements\n",
        "dataset.loc[dataset['artistic_movement'] == 'Barbizon school', 'artistic_movement'] = 'Realism'\n",
        "dataset.loc[dataset['artistic_movement'] == 'Japonisme', 'artistic_movement'] = 'Impressionism'\n",
        "dataset.loc[dataset['artistic_movement'] == 'Realism', 'artistic_movement'] = 'Impressionism'\n",
        "dataset.loc[dataset['artistic_movement'] == 'bohemianism', 'artistic_movement'] = 'Impressionism'\n",
        "dataset.loc[dataset['artistic_movement'] == 'primitivism', 'artistic_movement'] = 'post-impressionism'\n",
        "dataset.loc[dataset['artistic_movement'] == 'Cloisonnism', 'artistic_movement'] = 'post-impressionism'\n",
        "dataset.loc[dataset['artistic_movement'] == 'naïve art', 'artistic_movement'] = 'post-impressionism'\n",
        "dataset.loc[dataset['artistic_movement'] == 'analytical cubism', 'artistic_movement'] = 'Cubism'\n",
        "dataset.loc[dataset['artistic_movement'] == 'Pont-Aven School', 'artistic_movement'] = 'post-impressionism'\n",
        "dataset.loc[dataset['artistic_movement'] == 'constructivism', 'artistic_movement'] = 'Futurism'\n",
        "dataset.loc[dataset['artistic_movement'] == 'naïve art', 'artistic_movement'] = 'post-impressionism'\n",
        "dataset.loc[dataset['artistic_movement'] == 'symbolism', 'artistic_movement'] = 'Symbolism'\n",
        "dataset.loc[dataset['artistic_movement'] == 'degenerate art', 'artistic_movement'] = 'Modernism'\n",
        "dataset.loc[dataset['artistic_movement'] == 'Dada', 'artistic_movement'] = 'Modernism'\n",
        "dataset.loc[dataset['artistic_movement'] == 'Pleinairisme', 'artistic_movement'] = 'Impressionism'\n",
        "dataset.loc[dataset['artistic_movement'] == 'New Objectivity', 'artistic_movement'] = 'expressionism'\n",
        "\n",
        "#countries\n",
        "dataset.loc[dataset['author_citizenship'] == 'Russian Empire', 'author_citizenship'] = 'Russia'\n",
        "dataset.loc[dataset['author_citizenship'] == 'Soviet Union', 'author_citizenship'] = 'Russia'\n",
        "dataset.loc[dataset['author_citizenship'] == 'United States', 'author_citizenship'] = 'USA'\n",
        "dataset.loc[dataset['author_citizenship'] == 'United States of America', 'author_citizenship'] = 'USA'\n",
        "dataset.loc[dataset['author_citizenship'] == 'Kingdom of the Netherlands', 'author_citizenship'] = 'Netherlands'\n",
        "dataset.loc[dataset['author_citizenship'] == 'Kingdom of Italy', 'author_citizenship'] = 'Italy'\n",
        "dataset.loc[dataset['author_citizenship'] == 'Kingdom of Prussia', 'author_citizenship'] = 'Germany'\n",
        "dataset.loc[dataset['author_citizenship'] == 'German Reich', 'author_citizenship'] = 'Germany'\n",
        "dataset.loc[dataset['author_citizenship'] == 'Cisleithania', 'author_citizenship'] = 'Austria'\n",
        "dataset.loc[dataset['author_citizenship'] == 'Austrian Empire', 'author_citizenship'] = 'Austria'\n",
        "dataset.loc[dataset['author_citizenship'] == 'Austria-Hungary', 'author_citizenship'] = 'Austria'\n",
        "dataset.loc[dataset['author_citizenship'] == 'Second Polish Republic', 'author_citizenship'] = 'Poland'"
      ],
      "metadata": {
        "id": "Zq03OvLGoR2x"
      },
      "execution_count": null,
      "outputs": []
    },
    {
      "cell_type": "code",
      "source": [
        "dataset.groupby('artistic_movement')['artistic_movement'].count()"
      ],
      "metadata": {
        "colab": {
          "base_uri": "https://localhost:8080/"
        },
        "id": "O656bgs-IvwA",
        "outputId": "ec80f9ed-9adc-48d6-a8ef-90e36cee3d80"
      },
      "execution_count": null,
      "outputs": [
        {
          "output_type": "execute_result",
          "data": {
            "text/plain": [
              "artistic_movement\n",
              "Art Nouveau           291\n",
              "Cubism                 24\n",
              "Futurism                1\n",
              "Impressionism          93\n",
              "Modernism               2\n",
              "Symbolism              13\n",
              "expressionism          17\n",
              "modernism               3\n",
              "post-impressionism     29\n",
              "surrealism             14\n",
              "Name: artistic_movement, dtype: int64"
            ]
          },
          "metadata": {},
          "execution_count": 107
        }
      ]
    },
    {
      "cell_type": "code",
      "source": [
        "dataset.groupby('author_citizenship')['author_citizenship'].count()"
      ],
      "metadata": {
        "id": "KMUeHV6nU4gl",
        "colab": {
          "base_uri": "https://localhost:8080/"
        },
        "outputId": "d8b0f8b9-b80b-456a-8d34-bce0fcb958e6"
      },
      "execution_count": null,
      "outputs": [
        {
          "output_type": "execute_result",
          "data": {
            "text/plain": [
              "author_citizenship\n",
              "Austria             4\n",
              "Belgium             2\n",
              "Brazil              1\n",
              "France             77\n",
              "Germany             8\n",
              "Israel              1\n",
              "Italy               3\n",
              "Mexico              7\n",
              "Netherlands        28\n",
              "Norway              4\n",
              "Philippines         1\n",
              "Poland              4\n",
              "Romania             9\n",
              "Russia              1\n",
              "Spain             197\n",
              "Switzerland         4\n",
              "USA                14\n",
              "United Kingdom      4\n",
              "Name: author_citizenship, dtype: int64"
            ]
          },
          "metadata": {},
          "execution_count": 108
        }
      ]
    }
  ]
}